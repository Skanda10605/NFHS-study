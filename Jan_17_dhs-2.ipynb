{
 "cells": [
  {
   "cell_type": "code",
   "execution_count": null,
   "id": "1e614142-034b-4aa9-b0b7-7cda6d79b271",
   "metadata": {},
   "outputs": [],
   "source": [
    "import umap"
   ]
  },
  {
   "cell_type": "code",
   "execution_count": null,
   "id": "0b43da19-bee2-4edd-8411-0557d21e8f59",
   "metadata": {
    "scrolled": true
   },
   "outputs": [],
   "source": [
    "!pip install pandas"
   ]
  },
  {
   "cell_type": "code",
   "execution_count": null,
   "id": "c31fb2dd-fe75-46f4-8cc7-b050c5fb5624",
   "metadata": {},
   "outputs": [],
   "source": [
    "import pandas as pd"
   ]
  },
  {
   "cell_type": "code",
   "execution_count": null,
   "id": "e86532ab-3e1e-4f16-82bf-b0af9bd6a29b",
   "metadata": {},
   "outputs": [],
   "source": [
    "t = pd.read_csv('Table on 17th Jan.csv')"
   ]
  },
  {
   "cell_type": "code",
   "execution_count": null,
   "id": "ac384f1c-d0b9-4fc3-acd9-497dad3fea21",
   "metadata": {},
   "outputs": [],
   "source": [
    "t[t.columns[1]]"
   ]
  },
  {
   "cell_type": "code",
   "execution_count": null,
   "id": "9ff4ddf2-fcd8-426c-9e0d-36b832f63c86",
   "metadata": {},
   "outputs": [],
   "source": [
    "t_list = list(t.values)"
   ]
  },
  {
   "cell_type": "code",
   "execution_count": null,
   "id": "ec4ebc51-f981-413d-a446-ed90e6f974ea",
   "metadata": {},
   "outputs": [],
   "source": [
    "reducer = umap.UMAP(random_state=42,        \n",
    "    metric='euclidean',verbose = True)"
   ]
  },
  {
   "cell_type": "code",
   "execution_count": null,
   "id": "e5e007c1-36d3-4aae-a1a7-70f2dd05a472",
   "metadata": {},
   "outputs": [],
   "source": [
    "u = t[['total children 0 to 1','total children 1 to 2','total children 2 to 3','total children 3 to 4','total children 4 to 5']]"
   ]
  },
  {
   "cell_type": "code",
   "execution_count": null,
   "id": "0abbca87-45ef-4da6-877e-6e8cb89da42e",
   "metadata": {},
   "outputs": [],
   "source": [
    "t.values[:1000]"
   ]
  },
  {
   "cell_type": "code",
   "execution_count": null,
   "id": "c1e9fd9a-edd2-4bff-9d46-c5726e75b951",
   "metadata": {},
   "outputs": [],
   "source": [
    "import time"
   ]
  },
  {
   "cell_type": "code",
   "execution_count": null,
   "id": "903d5522-65c4-4500-af3e-bb1ac28f029e",
   "metadata": {},
   "outputs": [],
   "source": [
    "projs = reducer.fit_transform(t)"
   ]
  },
  {
   "cell_type": "code",
   "execution_count": null,
   "id": "a0444242-55b5-4388-a69d-8b8a83927221",
   "metadata": {},
   "outputs": [],
   "source": [
    "df = pd.DataFrame(projs)\n",
    "df.to_csv(\"umap_projections.csv\", index=False)"
   ]
  },
  {
   "cell_type": "code",
   "execution_count": null,
   "id": "71a4203c-ee1c-4b8e-82bb-e25497264443",
   "metadata": {},
   "outputs": [],
   "source": [
    "e = reducer.embedding_"
   ]
  },
  {
   "cell_type": "code",
   "execution_count": null,
   "id": "0630417f-ec4f-49ab-b9f4-d8c8741f8b35",
   "metadata": {},
   "outputs": [],
   "source": []
  },
  {
   "cell_type": "code",
   "execution_count": null,
   "id": "3a5032b0-9188-486c-8661-bdd1bd92419c",
   "metadata": {},
   "outputs": [],
   "source": [
    "plt.scatter(\n",
    "    e[:, 0],\n",
    "    e[:, 1],)\n"
   ]
  },
  {
   "cell_type": "code",
   "execution_count": null,
   "id": "74ac7d59-e1b1-4185-9a37-9a063017c461",
   "metadata": {},
   "outputs": [],
   "source": [
    "penguins = pd.read_csv(\"https://raw.githubusercontent.com/allisonhorst/palmerpenguins/c19a904462482430170bfe2c718775ddb7dbb885/inst/extdata/penguins.csv\")\n",
    "penguins.head()"
   ]
  },
  {
   "cell_type": "code",
   "execution_count": null,
   "id": "6929dec1-eb64-485e-b85e-b8c7e107fa33",
   "metadata": {},
   "outputs": [],
   "source": [
    "penguins = penguins.dropna()\n",
    "penguins.species.value_counts()"
   ]
  },
  {
   "cell_type": "code",
   "execution_count": null,
   "id": "8e02e6f2-27eb-4c85-bd85-1242f3bf8a73",
   "metadata": {},
   "outputs": [],
   "source": [
    "!pip install seaborn"
   ]
  },
  {
   "cell_type": "code",
   "execution_count": null,
   "id": "d3a69134-d151-4b00-a348-2bd569917400",
   "metadata": {},
   "outputs": [],
   "source": [
    "import numpy as np\n",
    "from sklearn.datasets import load_digits\n",
    "from sklearn.model_selection import train_test_split\n",
    "from sklearn.preprocessing import StandardScaler\n",
    "import matplotlib.pyplot as plt"
   ]
  },
  {
   "cell_type": "code",
   "execution_count": null,
   "id": "0a480f77-1519-4da5-9b9f-e2f8904057c5",
   "metadata": {},
   "outputs": [],
   "source": [
    "sns.pairplot(penguins.drop(\"year\", axis=1), hue='species');"
   ]
  },
  {
   "cell_type": "code",
   "execution_count": null,
   "id": "4e1c4116-e7ed-4ea0-becf-6e6b7bab4bef",
   "metadata": {},
   "outputs": [],
   "source": [
    "import seaborn as sns\n",
    "import pandas as pd\n",
    "%matplotlib inline"
   ]
  },
  {
   "cell_type": "code",
   "execution_count": null,
   "id": "37d72e2d-9864-4b07-808d-bea09cdafa23",
   "metadata": {},
   "outputs": [],
   "source": [
    "reducer = umap.UMAP()"
   ]
  },
  {
   "cell_type": "code",
   "execution_count": null,
   "id": "e9a92c10-0973-4cd8-bb3e-268c15829f0b",
   "metadata": {},
   "outputs": [],
   "source": [
    "penguin_data = penguins[\n",
    "    [\n",
    "        \"bill_length_mm\",\n",
    "        \"bill_depth_mm\",\n",
    "        \"flipper_length_mm\",\n",
    "        \"body_mass_g\",\n",
    "    ]\n",
    "].values\n",
    "scaled_penguin_data = StandardScaler().fit_transform(penguin_data)"
   ]
  },
  {
   "cell_type": "code",
   "execution_count": null,
   "id": "6c7f67e0-f84e-409f-b359-e390f76b007a",
   "metadata": {},
   "outputs": [],
   "source": [
    "embedding = reducer.fit_transform(scaled_penguin_data)"
   ]
  },
  {
   "cell_type": "code",
   "execution_count": null,
   "id": "bcc758af-46ba-4f6a-84e2-d07ad0db4032",
   "metadata": {},
   "outputs": [],
   "source": [
    "embedding.shape"
   ]
  },
  {
   "cell_type": "markdown",
   "id": "67a617d3-5af8-4b68-a8c7-a96e74171ca4",
   "metadata": {},
   "source": [
    "Birch"
   ]
  },
  {
   "cell_type": "code",
   "execution_count": null,
   "id": "4cb8cdc1-4888-40e7-b4a5-c403011d46c0",
   "metadata": {},
   "outputs": [],
   "source": [
    "!pip install scikit-learn\n",
    "from sklearn import *\n",
    "import matplotlib.pyplot as plt\n",
    "from sklearn.datasets import make_blobs\n",
    "from sklearn.cluster import Birch"
   ]
  },
  {
   "cell_type": "code",
   "execution_count": null,
   "id": "3e957f65-ba6b-4c71-a9ac-d62a1afb2382",
   "metadata": {},
   "outputs": [],
   "source": [
    "#dataset, clusters = make_blobs(n_samples = 600, centers = 8, cluster_std = 0.75, random_state = 0)\n",
    "model = Birch(branching_factor = 50, threshold = 1.5)\n",
    "model.fit(projs)"
   ]
  },
  {
   "cell_type": "code",
   "execution_count": null,
   "id": "b5ffb354-bcd1-431c-b9ca-759a3f1dbb1d",
   "metadata": {
    "scrolled": true
   },
   "outputs": [],
   "source": [
    "pred = model.predict(projs)\n",
    "plt.scatter(projs.iloc[:, 0], projs.iloc[:, 1], c=pred, alpha=1, edgecolors=None,cmap = 'Set1',s =1)\n",
    "plt.show()\n",
    "feature_stats = data_with_clusters.groupby(data_with_clusters.columns[2]).agg(['mean', 'std'])\n",
    "print(feature_stats)"
   ]
  },
  {
   "cell_type": "code",
   "execution_count": null,
   "id": "ff52bf3c-1386-41c4-bf20-37e5faad46bb",
   "metadata": {},
   "outputs": [],
   "source": [
    "pred = pd.DataFrame(pred)\n",
    "data_with_clusters = pd.concat([projs, pred], axis=1)\n"
   ]
  },
  {
   "cell_type": "code",
   "execution_count": null,
   "id": "461a30c4-0ccc-45d7-a017-7ee1adf6cd5b",
   "metadata": {},
   "outputs": [],
   "source": [
    "data_with_clusters_2 = pd.concat([t, pred], axis=1)"
   ]
  },
  {
   "cell_type": "code",
   "execution_count": null,
   "id": "e645f94f-7a3f-4662-90ff-f41e84702fe3",
   "metadata": {},
   "outputs": [],
   "source": [
    "max(pred),min(pred)"
   ]
  },
  {
   "cell_type": "code",
   "execution_count": null,
   "id": "0e3a4a2b-bf95-4800-b2cb-fa02430b3621",
   "metadata": {},
   "outputs": [],
   "source": [
    "from sklearn.preprocessing import StandardScaler\n",
    "scaler = StandardScaler()\n",
    "t = scaler.fit_transform(t)"
   ]
  },
  {
   "cell_type": "code",
   "execution_count": null,
   "id": "bfe25f8d-87c7-41aa-abf1-aa7a9ed11ebe",
   "metadata": {},
   "outputs": [],
   "source": [
    "dict = {}\n",
    "for i in range(len(pred)):\n",
    "    if pred[i] not in dict.keys():\n",
    "        dict[pred[i]] = [i]\n",
    "    else:\n",
    "        dict[pred[i]].append(i)"
   ]
  },
  {
   "cell_type": "code",
   "execution_count": null,
   "id": "98f4ebb3-2b1e-4cbd-be64-73d5f74ec00c",
   "metadata": {
    "scrolled": true
   },
   "outputs": [],
   "source": [
    "dict"
   ]
  },
  {
   "cell_type": "code",
   "execution_count": null,
   "id": "b4dda3ba-a931-47af-84c2-e002a759b3af",
   "metadata": {},
   "outputs": [],
   "source": [
    "from sklearn.decomposition import PCA\n"
   ]
  },
  {
   "cell_type": "code",
   "execution_count": null,
   "id": "7b0c80b3-568d-441a-adf0-cfc62b29d5ad",
   "metadata": {},
   "outputs": [],
   "source": [
    "pca = PCA(n_components=2)\n"
   ]
  },
  {
   "cell_type": "code",
   "execution_count": null,
   "id": "37082953-d867-4019-80f2-28434b95957e",
   "metadata": {},
   "outputs": [],
   "source": [
    "t_small = pca.fit_transform(t)"
   ]
  },
  {
   "cell_type": "code",
   "execution_count": null,
   "id": "ceedd915-8476-416f-930e-a16e37082512",
   "metadata": {},
   "outputs": [],
   "source": [
    "from sklearn.manifold import TSNE "
   ]
  },
  {
   "cell_type": "code",
   "execution_count": null,
   "id": "dc5876fa-c146-4374-ad00-875eaba0bfca",
   "metadata": {},
   "outputs": [],
   "source": [
    "tsne = TSNE(n_components=2, random_state=0,verbose = 1)"
   ]
  },
  {
   "cell_type": "code",
   "execution_count": null,
   "id": "00fb787c-2ebb-4a30-81b0-6ebbf29a95f5",
   "metadata": {},
   "outputs": [],
   "source": [
    "clusterer.labels_"
   ]
  },
  {
   "cell_type": "code",
   "execution_count": null,
   "id": "4bfed092-d08c-46d8-a244-7a3645ce3ee9",
   "metadata": {},
   "outputs": [],
   "source": [
    "scaler = StandardScaler()\n",
    "t_scaled = scaler.fit_transform(t)"
   ]
  },
  {
   "cell_type": "code",
   "execution_count": null,
   "id": "0bdf0e5e-3db9-4cff-8158-e3de20d33b3c",
   "metadata": {
    "scrolled": true
   },
   "outputs": [],
   "source": [
    "projections = tsne.fit_transform(t_scaled[:400000])\n"
   ]
  },
  {
   "cell_type": "code",
   "execution_count": null,
   "id": "93aa6286-0ddd-4872-b1b3-66829dd022ba",
   "metadata": {},
   "outputs": [],
   "source": []
  },
  {
   "cell_type": "code",
   "execution_count": null,
   "id": "7537f00e-e213-4199-8efd-b96dbe2e40ca",
   "metadata": {},
   "outputs": [],
   "source": [
    "pip install openTSNE\n"
   ]
  },
  {
   "cell_type": "markdown",
   "id": "64c46895-1305-40d0-a0ff-ea684aa9a182",
   "metadata": {},
   "source": [
    "HDBSCAN"
   ]
  },
  {
   "cell_type": "code",
   "execution_count": null,
   "id": "150223a0-8016-4a52-b90d-7fec7b345395",
   "metadata": {},
   "outputs": [],
   "source": [
    "#!pip install hdbscan\n",
    "import hdbscan\n",
    "clusterer = hdbscan.HDBSCAN(min_cluster_size=5,\n",
    "                            min_samples=5,\n",
    "                            cluster_selection_method='eom',\n",
    "                            allow_single_cluster=True,\n",
    "                            metric='euclidean',\n",
    "                            algorithm='best',\n",
    "                            leaf_size=30)"
   ]
  },
  {
   "cell_type": "code",
   "execution_count": null,
   "id": "9a2d51e6-1da0-4f4b-8838-24e0e34991df",
   "metadata": {},
   "outputs": [],
   "source": [
    "clusterer.fit(projs)"
   ]
  },
  {
   "cell_type": "code",
   "execution_count": null,
   "id": "edc323ce-8659-40b8-9a98-74a4f4c91a87",
   "metadata": {
    "scrolled": true
   },
   "outputs": [],
   "source": [
    "plt.figure(figsize=(10, 6))\n",
    "plt.scatter(projs[:, 0], projs[:, 1], c=clusterer.labels_,\n",
    "            cmap='viridis', s=7, alpha=0.7, edgecolors=None)\n",
    "plt.colorbar()\n",
    "plt.title('HDBSCAN Clustering')\n",
    "plt.xlabel('Feature 1')\n",
    "plt.ylabel('Feature 2')\n",
    "plt.show()"
   ]
  },
  {
   "cell_type": "code",
   "execution_count": null,
   "id": "41c44969-90db-42d8-9641-775e432cf42e",
   "metadata": {},
   "outputs": [],
   "source": [
    "clusterer"
   ]
  },
  {
   "cell_type": "code",
   "execution_count": null,
   "id": "12af1a23-6cbe-4400-88f4-8bf8984ab46b",
   "metadata": {},
   "outputs": [],
   "source": [
    "!pip install plotly\n",
    "import plotly.express as px"
   ]
  },
  {
   "cell_type": "code",
   "execution_count": null,
   "id": "257e3908-5b6a-4dbb-a8bc-02a877114703",
   "metadata": {},
   "outputs": [],
   "source": [
    "fig = px.parallel_coordinates(t.iloc[:,-5:], color=\"clusters\",\n",
    "                              dimensions=[ i for i in t.iloc[:,-5:].columns[:-1]],\n",
    "                              color_continuous_scale=px.colors.diverging.Tealrose,\n",
    "                              color_continuous_midpoint=2)\n",
    "fig.show()"
   ]
  },
  {
   "cell_type": "code",
   "execution_count": null,
   "id": "3c3f8b83-0828-4493-a88b-d8dacab94a3f",
   "metadata": {},
   "outputs": [],
   "source": []
  },
  {
   "cell_type": "code",
   "execution_count": null,
   "id": "36e18b80-7344-4a3a-99fc-1bae52973397",
   "metadata": {},
   "outputs": [],
   "source": [
    "t['clusters'] = pred"
   ]
  },
  {
   "cell_type": "code",
   "execution_count": null,
   "id": "e32cea14-0ace-484a-8207-fe376842cf17",
   "metadata": {},
   "outputs": [],
   "source": [
    "t.columns"
   ]
  },
  {
   "cell_type": "code",
   "execution_count": null,
   "id": "e923f4a9-7613-4578-a356-400678b8f9ff",
   "metadata": {},
   "outputs": [],
   "source": [
    "projs = pd.read_csv(\"umap_projections.csv\")"
   ]
  },
  {
   "cell_type": "code",
   "execution_count": null,
   "id": "b8d07c87-dcf5-4c3d-9a9e-2f379c89671e",
   "metadata": {},
   "outputs": [],
   "source": [
    "projs.iloc[:,0]\n",
    "import seaborn as sns\n",
    "import matplotlib.pyplot as plt\n",
    "\n",
    "# Visualize the UMAP embeddings\n",
    "plt.figure(figsize=(10, 8))\n",
    "sns.scatterplot(x=projs.iloc[:,0], y=projs.iloc[:,1], palette=\"viridis\", s=60)\n",
    "plt.title('UMAP Projection of Data', fontsize=16)\n",
    "plt.xlabel('UMAP1', fontsize=14)\n",
    "plt.ylabel('UMAP2', fontsize=14)\n",
    "plt.show()"
   ]
  },
  {
   "cell_type": "code",
   "execution_count": null,
   "id": "0bdf1fb1-48f3-48e3-9f81-b5724d4523e7",
   "metadata": {},
   "outputs": [],
   "source": [
    "def centroids(x):\n",
    "    c = t[t['clusters'] == x]\n",
    "    return (pd.DataFrame(c.mean(axis = 0))).T"
   ]
  },
  {
   "cell_type": "code",
   "execution_count": null,
   "id": "17ece3b0-6c59-4bd3-adab-88428b920668",
   "metadata": {},
   "outputs": [],
   "source": [
    "centroids(0)"
   ]
  },
  {
   "cell_type": "code",
   "execution_count": null,
   "id": "22138199-882d-48ef-a4be-056c80edea76",
   "metadata": {},
   "outputs": [],
   "source": [
    "centroids(1)"
   ]
  },
  {
   "cell_type": "code",
   "execution_count": null,
   "id": "d8072908-5398-4d0a-8531-33320b39a2c3",
   "metadata": {
    "scrolled": true
   },
   "outputs": [],
   "source": [
    "centroids(2)"
   ]
  },
  {
   "cell_type": "code",
   "execution_count": null,
   "id": "86912fc8-c3f9-4882-b477-a406f044d45c",
   "metadata": {},
   "outputs": [],
   "source": [
    "import matplotlib"
   ]
  },
  {
   "cell_type": "code",
   "execution_count": null,
   "id": "6afb75ef-2c8d-4f8b-817c-1fa4970bd7ae",
   "metadata": {},
   "outputs": [],
   "source": [
    "c1 = centroids(0)\n",
    "c2 = centroids(1)\n",
    "c3 = centroids(2)\n",
    "parallel = {}\n",
    "for i in c1.columns[2:]:\n",
    "    parallel[i] = [round(c1[i][0],2),round(c2[i][0],2),round(c3[i][0],2)]\n",
    "parallel = pd.DataFrame(parallel)"
   ]
  },
  {
   "cell_type": "code",
   "execution_count": null,
   "id": "b9970ba1-2624-4a87-868e-26cb680b851b",
   "metadata": {},
   "outputs": [],
   "source": [
    "parallel.to_csv('Centroids for UMAP + BIRCH')"
   ]
  },
  {
   "cell_type": "code",
   "execution_count": null,
   "id": "ed26dca7-c64f-498e-ac16-66f41e2bf43b",
   "metadata": {},
   "outputs": [],
   "source": [
    "fig = px.parallel_coordinates(parallel.iloc[:,-10:], color=\"clusters\",\n",
    "                              dimensions=[ i for i in parallel.iloc[:,-10:].columns[:-1]],\n",
    "                              color_continuous_scale=px.colors.diverging.Tealrose,\n",
    "                              color_continuous_midpoint = 2)\n",
    "fig.show()"
   ]
  },
  {
   "cell_type": "code",
   "execution_count": null,
   "id": "bf43645e-c7e2-4434-a9d5-e47c7ba2d92c",
   "metadata": {},
   "outputs": [],
   "source": [
    "import sklearn.cluster as cluster\n",
    "from sklearn.decomposition import PCA\n",
    "from sklearn.preprocessing import StandardScaler"
   ]
  },
  {
   "cell_type": "code",
   "execution_count": null,
   "id": "7232c45b-5d28-4352-ba91-6571b6381ee7",
   "metadata": {},
   "outputs": [],
   "source": [
    "kmeans_labels = cluster.KMeans(n_clusters=5).fit_predict(t)"
   ]
  },
  {
   "cell_type": "code",
   "execution_count": null,
   "id": "00761ad9-eab9-4039-9f2c-8028eb4635ed",
   "metadata": {},
   "outputs": [],
   "source": [
    "plt.scatter(x[:,0], x[:, 1], c=kmeans_labels, s=0.1, cmap='Spectral');"
   ]
  },
  {
   "cell_type": "code",
   "execution_count": null,
   "id": "e8e939ec-7128-49dd-9138-32a4e842ab82",
   "metadata": {},
   "outputs": [],
   "source": [
    "t = t.iloc[:,2:]"
   ]
  },
  {
   "cell_type": "code",
   "execution_count": null,
   "id": "5867d69c-f2cf-4abd-91fe-741ac4f3a624",
   "metadata": {},
   "outputs": [],
   "source": [
    "scaling=StandardScaler()\n",
    "scaling.fit(t)\n",
    "Scaled_data=scaling.transform(t)"
   ]
  },
  {
   "cell_type": "code",
   "execution_count": null,
   "id": "09555c5a-b8f2-4017-93de-21d2e8629de9",
   "metadata": {},
   "outputs": [],
   "source": [
    "principal=PCA()\n",
    "principal.fit(Scaled_data)\n",
    "y=principal.transform(Scaled_data)"
   ]
  },
  {
   "cell_type": "code",
   "execution_count": null,
   "id": "8ef4def0-1d38-4cf7-bb80-2079de6e3a36",
   "metadata": {},
   "outputs": [],
   "source": [
    "comps = principal.components_"
   ]
  },
  {
   "cell_type": "code",
   "execution_count": null,
   "id": "4cf9ea73-55a2-4834-9429-129984db41f4",
   "metadata": {},
   "outputs": [],
   "source": []
  },
  {
   "cell_type": "code",
   "execution_count": null,
   "id": "0e772dba-2ea3-4385-a86a-bee3d4a6fc13",
   "metadata": {},
   "outputs": [],
   "source": [
    "import numpy as np\n",
    "weights = np.zeros((31, 31))\n",
    "for i in range(len(comps)):\n",
    "    for j in range(len(comps[0])):\n",
    "        weights[i][j] = round(comps[i][j],3)"
   ]
  },
  {
   "cell_type": "code",
   "execution_count": null,
   "id": "7f70e988-c64a-41fc-8e55-38b838bc6182",
   "metadata": {},
   "outputs": [],
   "source": [
    "weights"
   ]
  },
  {
   "cell_type": "code",
   "execution_count": null,
   "id": "1099ddc5-03fe-42db-85e9-dfa573caa1b3",
   "metadata": {},
   "outputs": [],
   "source": [
    "x = [i for i in range(len(weights))]\n",
    "plt.figure(figsize=(40,40))\n",
    "for k in range(1):\n",
    "    y = [weights[k][i] for i in range(len(weights[0]))]\n",
    "    plt.subplot(12,3,k + 1,)\n",
    "    plt.scatter(x,y)"
   ]
  },
  {
   "cell_type": "code",
   "execution_count": null,
   "id": "b40e00a0-b215-4d9a-ab6d-be2297139ede",
   "metadata": {},
   "outputs": [],
   "source": [
    "def create_matrix(weights,threshold):\n",
    "    matrix = np.zeros((weights.shape[0],weights.shape[1]))\n",
    "    for i in range(len(weights)):\n",
    "        analyse(weights,i,matrix,threshold)\n",
    "    return matrix\n",
    "         \n",
    "def analyse(weights,i,matrix,threshold):\n",
    "    for x in range(len(weights[i])):\n",
    "        if abs(weights[i][x]) > threshold:\n",
    "                matrix [i][x] = 1 if weights[i][x] > 0 else -1        \n",
    "        \n",
    "def compos(weights):\n",
    "    dicty = {}\n",
    "    weights = (pd.DataFrame(weights)).T\n",
    "    for i in range(len(weights)):\n",
    "        analysis(weights,i,dicty)\n",
    "    return dicty"
   ]
  },
  {
   "cell_type": "code",
   "execution_count": null,
   "id": "954532e5-5e3d-4704-8c48-9fcdc486fc94",
   "metadata": {
    "scrolled": true
   },
   "outputs": [],
   "source": [
    "create_matrix(weights,0.1)"
   ]
  },
  {
   "cell_type": "code",
   "execution_count": null,
   "id": "7683a60a-15bc-492a-9c2c-54ad98d0e234",
   "metadata": {},
   "outputs": [],
   "source": [
    "matrix = pd.DataFrame(create_matrix(weights,0.1))"
   ]
  },
  {
   "cell_type": "code",
   "execution_count": null,
   "id": "4295dc67-4680-472b-bb20-15e84252687c",
   "metadata": {
    "scrolled": true
   },
   "outputs": [],
   "source": [
    "matrix"
   ]
  },
  {
   "cell_type": "code",
   "execution_count": null,
   "id": "2c583cf4-d6cf-4d91-91a4-7bcca72a0461",
   "metadata": {},
   "outputs": [],
   "source": [
    "matrix.to_csv('PCA feature weights matrix corrected.csv')"
   ]
  },
  {
   "cell_type": "code",
   "execution_count": null,
   "id": "07160056-b2de-4cf0-9ffa-1362a3d5c083",
   "metadata": {},
   "outputs": [],
   "source": [
    "from sklearn.preprocessing import StandardScaler\n",
    "from umap import UMAP\n",
    "\n",
    "scaler = StandardScaler()\n",
    "data_scaled = scaler.fit_transform(t)\n",
    "\n",
    "umap_model = UMAP()\n",
    "data_umap = umap_model.fit_transform(data_scaled)"
   ]
  },
  {
   "cell_type": "code",
   "execution_count": null,
   "id": "fb28a56f-e001-41ce-9ad9-b0235cdb85b9",
   "metadata": {},
   "outputs": [],
   "source": [
    "import pandas as pd"
   ]
  },
  {
   "cell_type": "code",
   "execution_count": null,
   "id": "f40f6802-856b-4f18-ae82-8045c917a2ab",
   "metadata": {},
   "outputs": [],
   "source": [
    "matrix = pd.read_csv('PCA feature weights matrix.csv')"
   ]
  },
  {
   "cell_type": "code",
   "execution_count": null,
   "id": "aed75b2e-9bb4-4e59-9505-802412ab21c0",
   "metadata": {
    "scrolled": true
   },
   "outputs": [],
   "source": [
    "matrix"
   ]
  },
  {
   "cell_type": "code",
   "execution_count": null,
   "id": "5da4364d-3bf8-4ac6-b221-ca48640a4eb4",
   "metadata": {},
   "outputs": [],
   "source": [
    "len(t.columns)"
   ]
  },
  {
   "cell_type": "code",
   "execution_count": null,
   "id": "eaebff34-0d40-4f1e-bffe-981dabd03b50",
   "metadata": {},
   "outputs": [],
   "source": [
    "name = pd.DataFrame({'Feat' : [i for i in t.columns]})\n",
    "name "
   ]
  },
  {
   "cell_type": "code",
   "execution_count": null,
   "id": "d0199be0-bbaa-4ad1-b54d-a716f68fa5d1",
   "metadata": {},
   "outputs": [],
   "source": [
    "merged_df = pd.concat([name, matrix], axis=1)"
   ]
  },
  {
   "cell_type": "code",
   "execution_count": null,
   "id": "6690e8ac-6948-457f-888a-de04c7a8ca56",
   "metadata": {},
   "outputs": [],
   "source": [
    "merged_df"
   ]
  },
  {
   "cell_type": "code",
   "execution_count": null,
   "id": "f1063204-c582-4c9d-94a5-c1202504e5d7",
   "metadata": {},
   "outputs": [],
   "source": [
    "import numpy as np\n",
    "explained_variance_ratio = principal.explained_variance_ratio_\n",
    "cumulative_variance = np.cumsum(explained_variance_ratio)"
   ]
  },
  {
   "cell_type": "code",
   "execution_count": null,
   "id": "57d6016f-91ba-4e34-9a20-324f822d3979",
   "metadata": {},
   "outputs": [],
   "source": [
    "import matplotlib.pyplot as plt\n",
    "\n",
    "# Scree plot\n",
    "plt.figure(figsize=(8, 5))\n",
    "plt.plot(range(1, len(explained_variance_ratio) + 1), explained_variance_ratio, marker='o', label='Explained Variance Ratio')\n",
    "plt.plot(range(1, len(explained_variance_ratio) + 1), cumulative_variance, marker='x', label='Cumulative Variance')\n",
    "plt.axhline(0.9, color='r', linestyle='--', label='90% Variance Threshold')\n",
    "plt.title('Scree Plot')\n",
    "plt.xlabel('Principal Component')\n",
    "plt.ylabel('Variance Explained')\n",
    "plt.legend()\n",
    "plt.grid()\n",
    "plt.show()"
   ]
  },
  {
   "cell_type": "code",
   "execution_count": null,
   "id": "8c798c7b-d3ae-4d03-bc08-119d69a4588c",
   "metadata": {},
   "outputs": [],
   "source": [
    "#from the scree plot, we can see that we need only 20 components to explain 90% of the variance\n",
    "#plotting only those\n",
    "x = [i for i in range(len(weights))]\n",
    "plt.figure(figsize=(100,100))\n",
    "for k in range(20):\n",
    "    y = [weights[k][i] for i in range(len(weights[0]))]\n",
    "    plt.subplot(10,2,k + 1,)\n",
    "    plt.scatter(x,y)"
   ]
  },
  {
   "cell_type": "code",
   "execution_count": null,
   "id": "6ca7a414-fd03-4092-86f1-c1987955daa2",
   "metadata": {},
   "outputs": [],
   "source": [
    "matrix = pd.read_csv('PCA feature weights matrix corrected.csv')"
   ]
  },
  {
   "cell_type": "code",
   "execution_count": null,
   "id": "1e02bd02-ab78-477e-bead-aa87a2ea07d0",
   "metadata": {
    "scrolled": true
   },
   "outputs": [],
   "source": [
    "matrix"
   ]
  },
  {
   "cell_type": "code",
   "execution_count": null,
   "id": "eb12d9f3-85cd-4bad-a356-232dc3be18a6",
   "metadata": {},
   "outputs": [],
   "source": [
    "merged_df.to_csv('PCA weights 25th Jan.csv')"
   ]
  },
  {
   "cell_type": "code",
   "execution_count": null,
   "id": "dcbf334e-340e-42e1-9b0d-86e184bc7b29",
   "metadata": {
    "scrolled": true
   },
   "outputs": [],
   "source": [
    "merged_df"
   ]
  },
  {
   "cell_type": "code",
   "execution_count": null,
   "id": "fe2a44f7-1c31-4610-875a-7d37daaf5f8e",
   "metadata": {},
   "outputs": [],
   "source": [
    "merged_df.drop(columns=merged_df.columns[1], inplace=True)"
   ]
  },
  {
   "cell_type": "code",
   "execution_count": null,
   "id": "1eafbd8f-87e7-4480-a8d4-e439be7daa31",
   "metadata": {
    "scrolled": true
   },
   "outputs": [],
   "source": [
    "merged_df"
   ]
  },
  {
   "cell_type": "code",
   "execution_count": null,
   "id": "92692161-402a-4f0a-8edd-30d30282c664",
   "metadata": {
    "scrolled": true
   },
   "outputs": [],
   "source": [
    "merged_df.iloc[:,:21]"
   ]
  },
  {
   "cell_type": "code",
   "execution_count": null,
   "id": "58a734dc-eb69-418e-98c5-397b9e34fa36",
   "metadata": {},
   "outputs": [],
   "source": [
    "loadings = principal.components_.T * np.sqrt(principal.explained_variance_)\n"
   ]
  },
  {
   "cell_type": "code",
   "execution_count": null,
   "id": "35a19173-c1b2-487c-8234-24b27cc0aef3",
   "metadata": {},
   "outputs": [],
   "source": [
    "correlations = comps.T * np.sqrt(principal.explained_variance_)"
   ]
  },
  {
   "cell_type": "code",
   "execution_count": null,
   "id": "87f63234-46a6-4e40-b981-699da5af8e40",
   "metadata": {},
   "outputs": [],
   "source": [
    "import seaborn as sns\n",
    "\n",
    "# Create a DataFrame for correlations\n",
    "correlation_df = pd.DataFrame(correlations, columns=['PC1', 'PC2'], index=t.columns)\n",
    "\n",
    "# Plot heatmap\n",
    "plt.figure(figsize=(8, 6))\n",
    "sns.heatmap(correlation_df, annot=True, cmap='coolwarm', fmt=\".2f\", cbar=True)\n",
    "plt.title(\"Correlation Between Original Features and PCs\")\n",
    "plt.show()"
   ]
  },
  {
   "cell_type": "code",
   "execution_count": null,
   "id": "6fd80237-75ee-4949-8949-5875e15e2554",
   "metadata": {
    "scrolled": true
   },
   "outputs": [],
   "source": [
    "# Generate column names for all PCs\n",
    "pc_columns = [f\"PC{i+1}\" for i in range(correlations.shape[1])]\n",
    "\n",
    "# Create the DataFrame with proper column names\n",
    "correlation_df = pd.DataFrame(correlations, columns=pc_columns, index=t.columns)\n",
    "\n",
    "print(correlation_df)\n"
   ]
  },
  {
   "cell_type": "code",
   "execution_count": null,
   "id": "2b281dc5-2b41-4c7e-b2dc-bb7a4eee31ff",
   "metadata": {
    "scrolled": true
   },
   "outputs": [],
   "source": [
    "# Keep only the first two PCs\n",
    "subset_correlations = correlations[:, :20]\n",
    "\n",
    "# Create the DataFrame with two columns\n",
    "correlation_df = pd.DataFrame(subset_correlations, columns=pc_columns[:20], index=t.columns)\n",
    "\n",
    "print(correlation_df)\n"
   ]
  },
  {
   "cell_type": "code",
   "execution_count": null,
   "id": "2351f830-7626-4ade-8bc1-1602b1ab7613",
   "metadata": {},
   "outputs": [],
   "source": [
    "explained_variance_ratio = principal.explained_variance_ratio_\n",
    "correlation_df.loc[\"Explained Variance Ratio\"] = explained_variance_ratio[:20]\n",
    "plt.figure(figsize=(100, 100))\n",
    "sns.heatmap(correlation_df, annot=True, cmap=\"coolwarm\", fmt=\".2f\",annot_kws={\"size\": 40})\n",
    "plt.title(\"Correlation Heatmap: Features vs. PCs (Subset)\")\n",
    "plt.xticks(fontsize=40)  \n",
    "plt.yticks(fontsize=40)\n",
    "plt.show()\n"
   ]
  },
  {
   "cell_type": "code",
   "execution_count": null,
   "id": "4f9acc9c-81bc-48ec-9203-4bf692cd5a55",
   "metadata": {},
   "outputs": [],
   "source": []
  }
 ],
 "metadata": {
  "kernelspec": {
   "display_name": "Python 3 (ipykernel)",
   "language": "python",
   "name": "python3"
  },
  "language_info": {
   "codemirror_mode": {
    "name": "ipython",
    "version": 3
   },
   "file_extension": ".py",
   "mimetype": "text/x-python",
   "name": "python",
   "nbconvert_exporter": "python",
   "pygments_lexer": "ipython3",
   "version": "3.11.11"
  }
 },
 "nbformat": 4,
 "nbformat_minor": 5
}
